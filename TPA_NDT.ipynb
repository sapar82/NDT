{
  "nbformat": 4,
  "nbformat_minor": 0,
  "metadata": {
    "colab": {
      "provenance": []
    },
    "kernelspec": {
      "name": "python3",
      "display_name": "Python 3"
    },
    "language_info": {
      "name": "python"
    }
  },
  "cells": [
    {
      "cell_type": "markdown",
      "source": [
        "# Mesures ultrasons\n"
      ],
      "metadata": {
        "id": "EzgZg6gCZCYV"
      }
    },
    {
      "cell_type": "markdown",
      "source": [
        "### Mesures d'une épaisseur"
      ],
      "metadata": {
        "id": "8wXMgo-RPpcs"
      }
    },
    {
      "cell_type": "markdown",
      "source": [
        "1.   Reproduire le montage expérimental, soit relier le pulseur vers l'oscilloscope et vers le transducteur. Les côtés plate des cylindres doivent être ajustés entre le transducteur et une surface plane.\n",
        "\n",
        "2.   Placer la substance visqueuse entre le transducteur et le cylindre. Quelle est l'utilité de la substance ?\n",
        "\n",
        "**Réponse:**\n",
        "\n",
        "\n",
        "\n",
        "3.   Mesure du temps entre les échos. Déterminer l'incertitude sur la vitesse de propagation des ultrasons, étant approximativement 6300 [m/s]. Si possible, prendre 10 mesures et prendre la moyenne comme valeur expérimentale. **Calcul de l'incertitude de la mesure à faire pour le temps, la vitesse et l'épaisseur.**"
      ],
      "metadata": {
        "id": "bqUQeWRvPx1Z"
      }
    },
    {
      "cell_type": "markdown",
      "source": [
        "\n",
        "\n"
      ],
      "metadata": {
        "id": "XhHI78i6--ew"
      }
    },
    {
      "cell_type": "code",
      "source": [
        "def incertitudeA(liste):\n",
        "  moy = sum(liste)/len(liste)\n",
        "  n = len(liste)\n",
        "  a = 0\n",
        "  for i in range(1, n):\n",
        "    a += (liste[i] - moy)**2\n",
        "  return moy, (a/(n-1))**0.5/n**0.5\n",
        "\n",
        "def incertitudeMinMax(A, B, incertA, incertB):\n",
        "  valBase = A*B/2\n",
        "  valMin = (A-incertA)*(B-incertB)/2\n",
        "  valMax = (A+incertA)*(B+incertB)/2\n",
        "  return max([valBase-valMin, valMax-valBase])\n",
        "\n",
        "tps = [1, 2, 1.5, 1, 1, 1, 2]\n",
        "moyenneTPS, incertitudeTPS = incertitudeA(tps)\n",
        "speed, incertitudeSPEED = 6300, 50\n",
        "epaisseur = moyenneTPS*speed/2\n",
        "incertitudeEPA = incertitudeMinMax(moyenneTPS, speed, incertitudeTPS, incertitudeSPEED)\n",
        "\n",
        "print(epaisseur, incertitudeEPA)"
      ],
      "metadata": {
        "id": "f4uETFXtAdM_",
        "outputId": "7dac70c3-fa89-4e22-ac0c-8af70475e56f",
        "colab": {
          "base_uri": "https://localhost:8080/"
        }
      },
      "execution_count": null,
      "outputs": [
        {
          "output_type": "stream",
          "name": "stdout",
          "text": [
            "4275.0 615.3844939496375\n"
          ]
        }
      ]
    },
    {
      "cell_type": "markdown",
      "source": [
        "\n",
        "\n",
        "4.   Prendre la mesure avec la règle et effectuer la comparaison. Répéter avec toutes les épaisseurs disponibles.\n",
        "\n",
        "Comparaison des mesures expérimentales de l'épaisseur des cylidres d'aluminium faites à la règle et au transducteur\n",
        "\n",
        "\\begin{array}{|c|c|} \\hline\n",
        "\\text{Épaisseur transducteur} & \\text{Épaisseur règle}\\\\\n",
        "[mm] & \\pm 1[mm] \\\\ \\hline\n",
        "\\,\\,\\pm  & 75\\\\\n",
        "\\,\\,\\pm & 50 \\\\\n",
        "\\,\\,\\pm \\,\\, & 25 \\\\\\hline\n",
        "\\end{array}\n",
        "\n",
        "\n",
        "**Observations**\n",
        "\n",
        "\n",
        "\n",
        "5.   Déterminer la plus petite épaisseur pouvant être détectée en laboratoire. (0.625 cm)"
      ],
      "metadata": {
        "id": "smzOh9XW9EFp"
      }
    },
    {
      "cell_type": "markdown",
      "source": [
        "### Mesures par échos sur une surface courbée"
      ],
      "metadata": {
        "id": "1UU9jUDtanJI"
      }
    },
    {
      "cell_type": "markdown",
      "source": [
        "1.    Placer le transducteur sur le bloc d’aluminium avec\n",
        "une surface courbée.\n",
        "\n",
        "\n",
        "2.   Noter le temps qui s’écoule entre l’impulsion initiale\n",
        "et le premier écho et calculer l’épaisseur du bloc à ce point. Suivre la position selon la position du bloc sur l'image en position horizontale. Tout comme auparavant, prendre 10 mesures par point, puis noter la moyenne et l'incertitude de type A sur le temps, puis trouver l'épaisseur du bloc. Prendre des mesures pour 8 valeurs de positions horizontales en tout. Avec des bonds de 5mm entre chaque mesure. Dans les fichiers de sauvegarde, cela corresponx aux fichiers eX. Arrive dans tous les sens quand va dans la curve\n",
        "\n",
        "\n",
        "\n",
        "\\begin{array}{|c|c|c|} \\hline\n",
        "\\text{Position horizontale} & \\text{Épaisseur tansducteur} & \\text{Épaisseur règle}\\\\\n",
        "\\pm1[mm] & [mm] & \\pm1 [mm] \\\\ \\hline\n",
        "&\\,\\,\\pm \\,\\, & \\\\\n",
        "&\\,\\,\\pm \\,\\, & \\\\\n",
        "&\\,\\,\\pm \\,\\, & \\\\\n",
        "&\\,\\,\\pm \\,\\, & \\\\\n",
        "&\\,\\,\\pm \\,\\, & \\\\\n",
        "&\\,\\,\\pm \\,\\, & \\\\\n",
        "&\\,\\,\\pm \\,\\, & \\\\\n",
        "&\\,\\,\\pm \\,\\, & \\\\\\hline\n",
        "\\end{array}"
      ],
      "metadata": {
        "id": "2e7ACtpaPYfe"
      }
    },
    {
      "cell_type": "code",
      "source": [
        "tps = [1, 2, 1.5, 1, 1, 1, 2]\n",
        "moyenneTPS, incertitudeTPS = incertitudeA(tps)\n",
        "epaisseur = moyenneTPS*speed/2\n",
        "incertitudeEPA = incertitudeMinMax(moyenneTPS, speed, incertitudeTPS, incertitudeSPEED)\n",
        "\n",
        "print(epaisseur, incertitudeEPA)\n",
        "\n"
      ],
      "metadata": {
        "id": "5u0RqHnAMHzk",
        "outputId": "3ee88844-8754-46ba-f2fa-b1c57d755643",
        "colab": {
          "base_uri": "https://localhost:8080/"
        }
      },
      "execution_count": null,
      "outputs": [
        {
          "output_type": "stream",
          "name": "stdout",
          "text": [
            "4275.0 615.3844939496375\n"
          ]
        }
      ]
    },
    {
      "cell_type": "markdown",
      "source": [
        "3.   **Inteprétation des mesures. L'effet détecté peut-il venir biaiser les mesures ?**\n",
        "\n",
        "Réponse"
      ],
      "metadata": {
        "id": "ni-PqU1zO2aV"
      }
    },
    {
      "cell_type": "markdown",
      "source": [
        "### Détection d'une cavité"
      ],
      "metadata": {
        "id": "xy9kEX82a2Ne"
      }
    },
    {
      "cell_type": "markdown",
      "source": [
        "\n",
        "\n",
        "1.   Élaborer une méthode appropriée pour mesure la cavité dans son ensemble. Est-elle symétrique, cubique, etc. ? Pour chaque face à analyser, déposer le transducteur au centre de la verticale et de l'horizontale. Similairement à la méthode utilisée pour la surface courbée, prendre des points sur les droites et noter les épaisseurs mesurées. En cas de symétrie, analyser 3 faces uniquement. Horizontale à partir de la gauche et veritcale à partir du bas. Bon finalement c'est vraiment ça, il faut tout d'abord sonder appoximativement une surface, puis, pour chaque colonne, noter les changements de position d'écho\n",
        "\n",
        "\n",
        "\n",
        "**Face #1(12.3 x 12.3 x 3.75)cm** épaisseur normale 12.4 us\n",
        "Colonnes (2cm encore rien)\n",
        "-à 4cm, à 4.7cm jusqua 7.4cm à partir du bas, épaisseur de 6.6 us\n",
        "\n",
        "-à 6cm, de 4 à 8 cm à partir du bas, 6.6 us\n",
        "\n",
        "- à 8 cm, de 4.4 à 7.4 cm à partir du bas, 6.6 us\n",
        "\n",
        "- ainsi à faire un guess un rectecgle de 3.75 à 8.25 de largeur, 4.5 à 7.5 de hauteur est présent\n",
        "\n",
        "\n",
        "**Face #2 vue de face** épaisseur nomrale de 40.4 us non concluant\n",
        "**Face dessous**  20.6 us d'épaisseur quand cavité. 1.3 jusqu'à 3 cm à partir du bas, entre 4.1 à 8 cm de part et d'autre\n",
        "\n",
        "**Face de droite** on a détection de 5 à 7.5 cm 22.4 us de profondeur\n",
        "\n",
        "\\begin{array}{|c|c|} \\hline\n",
        "\\text{Position horizontale} & \\text{Épaisseur tansducteur}\\\\\n",
        "\\pm1[mm] & [mm] \\\\ \\hline\n",
        "&\\,\\,\\pm \\,\\,\\\\\n",
        "&\\,\\,\\pm \\,\\,\\\\\n",
        "&\\,\\,\\pm \\,\\,\\\\\n",
        "&\\,\\,\\pm \\,\\,\\\\\n",
        "&\\,\\,\\pm \\,\\,\\\\\n",
        "&\\,\\,\\pm \\,\\,\\\\\n",
        "&\\,\\,\\pm \\,\\,\\\\\n",
        "&\\,\\,\\pm \\,\\,\\\\\\hline\n",
        "\\end{array}\n",
        "\n",
        "\\begin{array}{|c|c|} \\hline\n",
        "\\text{Position verticale} & \\text{Épaisseur tansducteur}\\\\\n",
        "\\pm1[mm] & [mm] \\\\ \\hline\n",
        "&\\,\\,\\pm \\,\\,\\\\\n",
        "&\\,\\,\\pm \\,\\,\\\\\n",
        "&\\,\\,\\pm \\,\\,\\\\\n",
        "&\\,\\,\\pm \\,\\,\\\\\n",
        "&\\,\\,\\pm \\,\\,\\\\\n",
        "&\\,\\,\\pm \\,\\,\\\\\n",
        "&\\,\\,\\pm \\,\\,\\\\\n",
        "&\\,\\,\\pm \\,\\,\\\\\\hline\n",
        "\\end{array}\n",
        "\n",
        "**Face #3**\n",
        "\n",
        "\\begin{array}{|c|c|} \\hline\n",
        "\\text{Position horizontale} & \\text{Épaisseur tansducteur}\\\\\n",
        "\\pm1[mm] & [mm] \\\\ \\hline\n",
        "&\\,\\,\\pm \\,\\,\\\\\n",
        "&\\,\\,\\pm \\,\\,\\\\\n",
        "&\\,\\,\\pm \\,\\,\\\\\n",
        "&\\,\\,\\pm \\,\\,\\\\\n",
        "&\\,\\,\\pm \\,\\,\\\\\n",
        "&\\,\\,\\pm \\,\\,\\\\\n",
        "&\\,\\,\\pm \\,\\,\\\\\n",
        "&\\,\\,\\pm \\,\\,\\\\\\hline\n",
        "\\end{array}\n",
        "\n",
        "\\begin{array}{|c|c|} \\hline\n",
        "\\text{Position verticale} & \\text{Épaisseur tansducteur}\\\\\n",
        "\\pm1[mm] & [mm] \\\\ \\hline\n",
        "&\\,\\,\\pm \\,\\,\\\\\n",
        "&\\,\\,\\pm \\,\\,\\\\\n",
        "&\\,\\,\\pm \\,\\,\\\\\n",
        "&\\,\\,\\pm \\,\\,\\\\\n",
        "&\\,\\,\\pm \\,\\,\\\\\n",
        "&\\,\\,\\pm \\,\\,\\\\\n",
        "&\\,\\,\\pm \\,\\,\\\\\n",
        "&\\,\\,\\pm \\,\\,\\\\\\hline\n",
        "\\end{array}\n",
        "\n"
      ],
      "metadata": {
        "id": "3MFOfKFsQMuu"
      }
    },
    {
      "cell_type": "code",
      "source": [
        "tps = [1, 2, 1.5, 1, 1, 1, 2]\n",
        "moyenneTPS, incertitudeTPS = incertitudeA(tps)\n",
        "epaisseur = moyenneTPS*speed/2\n",
        "incertitudeEPA = incertitudeMinMax(moyenneTPS, speed, incertitudeTPS, incertitudeSPEED)\n",
        "\n",
        "print(epaisseur, incertitudeEPA)"
      ],
      "metadata": {
        "id": "SghLSNFnTCjn"
      },
      "execution_count": null,
      "outputs": []
    },
    {
      "cell_type": "markdown",
      "source": [
        "2. À partir des mesures, effectuer l'apporximation de la forme de la cavité. Si la cavité avait eu des courbes, est-ce qu'il autait été possible de déterminer les dimensions de la cavité.\n",
        "\n",
        "**Réponse :**"
      ],
      "metadata": {
        "id": "Zp2rq3l0TDaT"
      }
    },
    {
      "cell_type": "markdown",
      "source": [
        "### Coefficient d'atténuation"
      ],
      "metadata": {
        "id": "9q4tgzE7a8Oi"
      }
    },
    {
      "cell_type": "markdown",
      "source": [
        "\n",
        "\n",
        "1.   Appliquer adéquatement dans le montage la matière spongieuse afin d'assurer une application uniforme de la force. De plus, on sait que la puissance est proportionnelle au carré de la différence de potentiel ($P = \\frac{V^2}{R}$). Donc, il sera pratique de quantifier l'atténuation en dB ($\\alpha x$) avec l'équation suivante, où $V_0$ est le potentiel du pic inital et $V_f$ le potentiel du pic écho:\n",
        "\n",
        "     $\\alpha x = 20log_{10}\\frac{V_f}{V_0}$\n",
        "\n",
        "2. Afin de comparer l'acrylique et l'aluminium, il faut soit comparer l'attenénuation entre 2 pics subséquents, ou comparer pour une même amplitude de pic initial le pic atténué entre les deux substances. Utiliser les deux méthodes **(à revoir)** et prendre 10 meusures de chaque phénomène, puis donner la valeur moyenne et son incertitude comme valeur valide. Pour les mesures d'acryliques, comme effectué auparavant, calculer le temps moyen entre les 2 pics, puis mesurer avec la règle les échantillons d'acrylique.\n",
        "\n",
        "f1 = petit 25 mm acrylique\n",
        "\n",
        "f2 = moyen acylique 5 cm\n",
        "\n",
        "f3 = long acrylique 7.5 cm\n",
        "\n",
        "g1= petit alu\n",
        "\n",
        "g2 = moyen alu\n",
        "\n",
        "\\begin{array}{|c|c|c|} \\hline\n",
        "\\text{Substance} & \\# pic & Amplitude\\\\\n",
        " & & [V] \\\\ \\hline\n",
        "& &\\,\\,\\pm \\,\\,\\\\\n",
        "&&\\,\\,\\pm \\,\\,\\\\\n",
        "&&\\,\\,\\pm \\,\\,\\\\\n",
        "&&\\,\\,\\pm \\,\\,\\\\\\hline\n",
        "\\end{array}\n",
        "\n"
      ],
      "metadata": {
        "id": "gQ7jLg1YUAW3"
      }
    },
    {
      "cell_type": "code",
      "source": [
        "AMP = [1, 2, 1.5, 1, 1, 1, 2]\n",
        "moyenneAMP, incertitudeAMP = incertitudeA(AMP)\n",
        "print(moyenneAMP, incertitudeAMP)\n",
        "\n",
        "tps = [1, 2, 1.5, 1, 1, 1, 2]\n",
        "moyenneTPS, incertitudeTPS = incertitudeA(tps)\n",
        "print(moyenneTPS, incertitudeTPS)"
      ],
      "metadata": {
        "id": "GLk6mNfYZMnE"
      },
      "execution_count": null,
      "outputs": []
    },
    {
      "cell_type": "markdown",
      "source": [
        "**Important de noter tout changement de logistique pour les tableaux**\n",
        "\n",
        "3.   Expliquer d'une part qu'elle est la meilleure méthode pour évaluer l'atténuation du signal, et expliquer la différence pourquoi l'atténuation est différente entre les 2 matériaux.\n",
        "\n",
        "\n",
        "\n"
      ],
      "metadata": {
        "id": "cyCAove7Z6e6"
      }
    },
    {
      "cell_type": "markdown",
      "source": [
        "# Courants de Foucault\n"
      ],
      "metadata": {
        "id": "dnMQPsj_bvDl"
      }
    },
    {
      "cell_type": "markdown",
      "source": [
        "### Détection d'une fissure"
      ],
      "metadata": {
        "id": "7iscrRcXcm12"
      }
    },
    {
      "cell_type": "markdown",
      "source": [
        "En disposant des bobine d'exploration à de bonnes références, on peut observer que Vl change. On a une fissure d'environ 7.55 cm, a un angle de 20 à 30 degré"
      ],
      "metadata": {
        "id": "GVfeseIYb3Zb"
      }
    },
    {
      "cell_type": "code",
      "source": [],
      "metadata": {
        "id": "Sw-Tw1rBbxJd"
      },
      "execution_count": null,
      "outputs": []
    },
    {
      "cell_type": "markdown",
      "source": [
        "### Mesures de l'épaisseur d'un revêtement"
      ],
      "metadata": {
        "id": "EfyMVWrVb-k9"
      }
    },
    {
      "cell_type": "code",
      "source": [
        "array_plastique = []\n",
        "number ="
      ],
      "metadata": {
        "id": "AmFUIfVVV3zJ"
      },
      "execution_count": null,
      "outputs": []
    },
    {
      "cell_type": "markdown",
      "source": [
        "k1 est la référence pour 0 feuille de plsastique\n",
        "\n",
        "épaisseur feuille de 50um par shot qq"
      ],
      "metadata": {
        "id": "XzeaXr8scDU-"
      }
    }
  ]
}